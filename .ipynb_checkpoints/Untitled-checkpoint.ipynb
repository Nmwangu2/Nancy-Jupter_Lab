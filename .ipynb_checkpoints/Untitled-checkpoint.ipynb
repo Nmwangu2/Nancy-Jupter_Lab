{
 "cells": [
  {
   "cell_type": "code",
   "execution_count": 2,
   "id": "3119a2c3-59fb-4945-a0a7-2417eb30305e",
   "metadata": {},
   "outputs": [
    {
     "name": "stdout",
     "output_type": "stream",
     "text": [
      "Nancy\n"
     ]
    }
   ],
   "source": [
    "print(\"Nancy\")\n"
   ]
  },
  {
   "cell_type": "code",
   "execution_count": null,
   "id": "b211b264-0777-4da6-b459-42481314ad6c",
   "metadata": {},
   "outputs": [],
   "source": []
  }
 ],
 "metadata": {
  "kernelspec": {
   "display_name": "Python 3 (ipykernel)",
   "language": "python",
   "name": "python3"
  },
  "language_info": {
   "codemirror_mode": {
    "name": "ipython",
    "version": 3
   },
   "file_extension": ".py",
   "mimetype": "text/x-python",
   "name": "python",
   "nbconvert_exporter": "python",
   "pygments_lexer": "ipython3",
   "version": "3.11.7"
  }
 },
 "nbformat": 4,
 "nbformat_minor": 5
}
